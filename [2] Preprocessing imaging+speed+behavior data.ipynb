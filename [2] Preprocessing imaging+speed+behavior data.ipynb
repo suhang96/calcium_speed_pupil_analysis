{
 "cells": [
  {
   "cell_type": "code",
   "execution_count": null,
   "id": "b44d3347",
   "metadata": {},
   "outputs": [],
   "source": [
    "import h5py\n",
    "from datahandler import *"
   ]
  },
  {
   "cell_type": "markdown",
   "id": "7889ab38",
   "metadata": {},
   "source": [
    "#### Ploting parameters"
   ]
  },
  {
   "cell_type": "code",
   "execution_count": null,
   "id": "eb14ddde",
   "metadata": {},
   "outputs": [],
   "source": [
    "# Set global plot parameters\n",
    "plt.rcParams['axes.spines.top'] = False\n",
    "plt.rcParams['axes.spines.right'] = False\n",
    "plt.rcParams['axes.titlepad'] = 10  # Adjust title padding if necessary\n",
    "plt.rcParams['axes.titlesize'] = 15\n",
    "plt.rcParams['axes.labelsize'] = 15\n",
    "plt.rcParams['xtick.labelsize'] = 13\n",
    "plt.rcParams['ytick.labelsize'] = 13\n",
    "plt.rcParams['font.family'] = 'Arial'\n",
    "plt.rcParams['lines.linewidth'] = 0.25\n",
    "plt.rcParams['axes.prop_cycle'] = plt.cycler(color=['black'])\n",
    "plt.rcParams['legend.fontsize'] = 6"
   ]
  },
  {
   "cell_type": "markdown",
   "id": "47e2da51",
   "metadata": {},
   "source": [
    "## Set parameters"
   ]
  },
  {
   "cell_type": "code",
   "execution_count": null,
   "id": "9481d28f",
   "metadata": {},
   "outputs": [],
   "source": [
    "path = r'\\\\research.files.med.harvard.edu\\Neurobio\\Fishell Lab\\Shuhan_HMS folder\\NGFC\\2P\\NGFC' \n",
    "stimuli_file_path = path + r'\\NGFC_Vis_Stimuli_SH_v4.4.3\\Seq_stimuli'"
   ]
  },
  {
   "cell_type": "markdown",
   "id": "bd88180c",
   "metadata": {},
   "source": [
    "#### Set file directory and parameters\n",
    "\n",
    "type_name: <br/>\n",
    "NP11 - 'Lamp5 Ai195 L1' & 'Lamp5 Ai195 L23'"
   ]
  },
  {
   "cell_type": "code",
   "execution_count": null,
   "id": "0c276838",
   "metadata": {},
   "outputs": [],
   "source": [
    "type_name = 'Lamp5 Ai195 L23'\n",
    "folder = r'\\NP11_DlxCre;Lamp5FlpO;Ai195\\NP11N\\NP11N_ROI1_082222'\n",
    "directory_path = path + folder\n",
    "\n",
    "VIDEO_FRAMERATE = 19.06 #Hz\n",
    "BASE_DEPTH = -188\n",
    "DELTA_Z = 50\n",
    "GCAMP='7s'"
   ]
  },
  {
   "cell_type": "code",
   "execution_count": null,
   "id": "701a95ec",
   "metadata": {},
   "outputs": [],
   "source": [
    "image_filename = r'\\NP11N_ROI1_image1'\n",
    "speed_filename = r'\\NP11N_ROI1_speed1.npy'\n",
    "behavior_filename = r'\\NP11N_ROI1_record1_proc.npy'\n",
    "stimuli_type = 'A'"
   ]
  },
  {
   "cell_type": "markdown",
   "id": "523f4d94",
   "metadata": {},
   "source": [
    "#### Set stimulation parameters\n"
   ]
  },
  {
   "cell_type": "code",
   "execution_count": null,
   "id": "bc713ac5",
   "metadata": {},
   "outputs": [],
   "source": [
    "StimulusData = StimulusDataHandler(stimuli_file_path=stimuli_file_path,\n",
    "                                   stimuli_type=stimuli_type,\n",
    "                                   printInfo=True)\n",
    "\n",
    "[stimuli_seq, stimuli_list,\n",
    " stimuli_file, stimuli_type_doc] = StimulusData.read_StimuliType()"
   ]
  },
  {
   "cell_type": "markdown",
   "id": "807f66f8",
   "metadata": {},
   "source": [
    "---\n",
    "## Process imaging data\n",
    "Imaging data were 30Hz calcium imaging from Suite2P"
   ]
  },
  {
   "cell_type": "code",
   "execution_count": null,
   "id": "8f8884cb",
   "metadata": {
    "scrolled": false
   },
   "outputs": [],
   "source": [
    "CalciumData = CalciumDataHandler(directory_path, \n",
    "                                  image_filename, \n",
    "                                  base_depth=BASE_DEPTH, \n",
    "                                  delta_z=DELTA_Z, \n",
    "                                  gcamp_type=GCAMP, \n",
    "                                  print_info=True, \n",
    "                                  file_format='tif')\n",
    "\n",
    "[F, FwithFneu, Fneu, iscell, ops, spks, stat, \n",
    " # F has substracted Fneu * neurophil factor\n",
    " roi_loc, stat_orig, ind_cells, num_roi] = CalciumData.read_Suite2p()\n"
   ]
  },
  {
   "cell_type": "code",
   "execution_count": null,
   "id": "0b584213",
   "metadata": {},
   "outputs": [],
   "source": [
    "# fig, ax = plt.subplots(1, 1, figsize=(10, 10))\n",
    "# key = 'max_proj'\n",
    "# vmin_val, vmax_val = None, None\n",
    "# ax.imshow(ops[key], vmin=vmin_val, vmax=vmax_val, cmap='gray')\n",
    "# ax.axis('off')\n",
    "# figure_dir = os.path.join(directory_path, 'Figure')\n",
    "# fig.savefig(os.path.join(figure_dir, f'[REP]_{image_filename[1:]}.tif'), dpi=300, transparent=True)"
   ]
  },
  {
   "cell_type": "markdown",
   "id": "9d41d276",
   "metadata": {},
   "source": [
    "### Get standardized_dF_F0, baseline F0, dF_F0 and check the signal quality of each ROIs"
   ]
  },
  {
   "cell_type": "code",
   "execution_count": null,
   "id": "0e7513de",
   "metadata": {
    "scrolled": false
   },
   "outputs": [],
   "source": [
    "standardized_dF_F0, F0, dF_F0 = CalciumData.standard_dF_F0(window_size=150, # 150-s window\n",
    "                                                           percentile=30, \n",
    "                                                           plot=True)"
   ]
  },
  {
   "cell_type": "markdown",
   "id": "5c99b3cb",
   "metadata": {},
   "source": [
    "---\n",
    "## Process speed data\n",
    "Speed data from wheels, preprocessed, smoothed via **convolve1d** with uniform weighting (ones) filter with full-length window, and saved as .npy file in **[1] ReadSpeed mat to npy.ipynb**\n",
    "\n",
    "#### Binning speed to 30Hz as imaging frame rate, transform to cm/s"
   ]
  },
  {
   "cell_type": "code",
   "execution_count": null,
   "id": "8dc08dbf",
   "metadata": {},
   "outputs": [],
   "source": [
    "SpeedData = SpeedDataHandler(directory_path, \n",
    "                             speed_filename,\n",
    "                             add_one=True, \n",
    "                             file_format='tif')\n",
    "\n",
    "speed = SpeedData.binning_speed()"
   ]
  },
  {
   "cell_type": "markdown",
   "id": "36fc074f",
   "metadata": {},
   "source": [
    "---\n",
    "## Process behavior data\n",
    "Behavior data from Facemap (All data were replaced with NaNs at the first 2s and last frame): \n",
    "\n",
    "(1) **motion_SVD** (raw from facemap, unsmoothed), \n",
    "\n",
    "(2) **video_running** (raw from facemap, unsmoothed), \n",
    "\n",
    "(3) **merged_blinks** (detect blinks with deviation period added before and after blink, and merge nearby blinks), <br/> \n",
    "**timestamps** (For each blink, four equally spaced time points are required. t2 is the blink onset; t3 is\n",
    "the blink offset; t1=t2-t3+t2; t4=t3-t2+t3),\n",
    "\n",
    "(4) **blink_zscored** (blink data raw from facemap, after z-score), <br/>\n",
    "**blink_zscored_smooth_velocity** (velocity of smoothed blink z-score data),\n",
    "\n",
    "(5) **pupil_area_smooth** (raw from facemap), <br/> \n",
    "**pupil_zscored** (after z-score), <br/> \n",
    "**pupil_nan** (after replacing blinks with NaN on pupil_zscored), <br/> \n",
    "**pupil_nan_smooth** (smoothed **pupil_nan**), <br/>\n",
    "**pupil_interpolated** (Based on these **timestamps** and the associated pupil sizes (from the original, unsmoothed signal), a cubic-spline fit is generated. The original signal between t2 and t3 is replaced by the cubic spline. Thus, the signal is left unchanged, except for the blink period), <br/>\n",
    "**pupil_interpolated_smooth** (Smoothed **pupil_interpolated**)\n",
    "\n",
    "(6) **pupil_com** (center of mass in pixel, substracted from mean, [Y,X]), <br/> \n",
    "**pupil_com_nan** (after replacing blink with NaN), <br/> \n",
    "**pupil_com_nan_smooth** (smoothed **pupil_com_nan**), <br/>\n",
    "**pupil_com_interpolated** (with cubic-spline interpolation), <br/> \n",
    "**pupil_com_interpolated_smooth** (Smoothed **pupil_com_interpolated**)"
   ]
  },
  {
   "cell_type": "code",
   "execution_count": null,
   "id": "fa231131",
   "metadata": {},
   "outputs": [],
   "source": [
    "BehaviorData = BehaviorDataHandler(directory_path, \n",
    "                                   behavior_filename, \n",
    "                                   VIDEO_FRAMERATE, \n",
    "                                   time_from_start=2, #default 2\n",
    "                                   window_size=19, #default 19\n",
    "                                   velocity_threshold=-0.15, #default -0.15\n",
    "                                   zero_threshold=0.02, #default 0.02\n",
    "                                   deviation_onset=10, #default 10\n",
    "                                   deviation_offset=15, #default 15\n",
    "                                   merge_threshold=10, #default 10\n",
    "                                   y_lim=None,\n",
    "                                   file_format='tif')\n",
    "\n",
    "[video_motSVD, \n",
    " video_running,\n",
    " merged_blinks, timestamps, \n",
    " blink_zscored, blink_zscored_smooth_velocity,\n",
    " pupil_area_smooth, pupil_zscored, \n",
    " pupil_nan, pupil_nan_smooth, \n",
    " pupil_interpolated, pupil_interpolated_smooth,\n",
    " pupil_com, \n",
    " pupil_com_nan, pupil_com_nan_smooth, \n",
    " pupil_com_interpolated, pupil_com_interpolated_smooth] = BehaviorData.read_video()\n",
    "\n",
    "# plot the data to check\n",
    "BehaviorData.plot_video()"
   ]
  },
  {
   "cell_type": "markdown",
   "id": "ac670059",
   "metadata": {},
   "source": [
    "#### (optional) remove the bad frames of behavior"
   ]
  },
  {
   "cell_type": "code",
   "execution_count": null,
   "id": "736cabbc",
   "metadata": {},
   "outputs": [],
   "source": [
    "# parameters_list = [pupil_zscored, \n",
    "#                    pupil_nan, pupil_nan_smooth, \n",
    "#                    pupil_interpolated, pupil_interpolated_smooth,\n",
    "#                    pupil_com, pupil_com_nan, pupil_com_nan_smooth, \n",
    "#                    pupil_com_interpolated, pupil_com_interpolated_smooth]\n",
    "\n",
    "# for para in parameters_list:\n",
    "#     para[:int(np.ceil(2*VIDEO_FRAMERATE))] = np.nan"
   ]
  },
  {
   "cell_type": "markdown",
   "id": "11e627ae",
   "metadata": {},
   "source": [
    "---\n",
    "## Save processed data for downstream analysis\n",
    "Data from suite2p processing are stored in suite2p folder, so they are not saved here."
   ]
  },
  {
   "cell_type": "code",
   "execution_count": null,
   "id": "e3d6dd32",
   "metadata": {},
   "outputs": [],
   "source": [
    "data_to_save = {\n",
    "    # basic experiment parameters\n",
    "    'type_name': type_name,\n",
    "    'path': path,\n",
    "    'folder': folder,\n",
    "    'directory_path': directory_path,\n",
    "    \n",
    "    'image_filename': image_filename,\n",
    "    'speed_filename': speed_filename,\n",
    "    'behavior_filename': behavior_filename,\n",
    "\n",
    "    'VIDEO_FRAMERATE': VIDEO_FRAMERATE, # confirm the frame_rate of videos\n",
    "   \n",
    "    'BASE_DEPTH': BASE_DEPTH,\n",
    "    'DELTA_Z': DELTA_Z,\n",
    "    'GCAMP': GCAMP,\n",
    "    \n",
    "    'roi_loc': roi_loc, # (y, x, z)\n",
    "    'ind_cells': ind_cells,\n",
    "    'num_roi': num_roi,\n",
    "    \n",
    "    # Imaging data are all 30Hz\n",
    "    'F': F, # F has substracted Fneu * neurophil factor\n",
    "    'F0': F0, # baseline\n",
    "    'dF_F0': dF_F0,\n",
    "    'standardized_dF_F0': standardized_dF_F0, # ∆F/F0 traces were standardized by subtracting the median and dividing by the standard deviation.\n",
    "    \n",
    "    # Speed data saved as 30Hz\n",
    "    'speed': speed, # smoothed and binned speed (30Hz), in cm/s\n",
    "\n",
    "    # Video data are saved as original VIDEO_FRAMERATE.\n",
    "    'video_motSVD': video_motSVD, # (frames, 500) Nose and face region (raw from facemap, unsmoothed)\n",
    "    'video_running': video_running, # (frames, 2) running speed from video (raw from facemap, unsmoothed)\n",
    "\n",
    "    'merged_blinks': merged_blinks, # (each blink, 2) 2-on and off; the on and off frame index for each blink\n",
    "    'timestamps': timestamps, # (four data points for each blink)\n",
    "    'blink_zscored': blink_zscored, # (frames,) z-scored blink data\n",
    "    'blink_zscored_smooth_velocity': blink_zscored_smooth_velocity, # velocity of smoothed blink_zscored\n",
    "    \n",
    "    'pupil_area_smooth': pupil_area_smooth, # list of pupil area_smooth outputs from Facemap\n",
    "    'pupil_zscored': pupil_zscored, # pupil_area_smooth after z-score\n",
    "    'pupil_nan': pupil_nan, # pupil_area_zscored after replacing blinks + deviation periods with NaN\n",
    "    'pupil_nan_smooth': pupil_nan_smooth,\n",
    "    'pupil_interpolated': pupil_interpolated, # pupil_zscored with CubicSpline interpolation\n",
    "    'pupil_interpolated_smooth': pupil_interpolated_smooth,\n",
    "    \n",
    "    'pupil_com': pupil_com, # pixel, center of mass, substracted from mean, [Y,X]\n",
    "    'pupil_com_nan': pupil_com_nan, # pupil_com after replacing blinks + deviation periods with NaN\n",
    "    'pupil_com_nan_smooth': pupil_com_nan_smooth,\n",
    "    'pupil_com_interpolated': pupil_com_interpolated, # pupil_com_nan with 1d interpolation\n",
    "    'pupil_com_interpolated_smooth': pupil_com_interpolated_smooth,\n",
    "    \n",
    "    # Stimulation\n",
    "    'stimuli_file_path': stimuli_file_path,\n",
    "    'stimuli_file': stimuli_file,\n",
    "    'stimuli_type': stimuli_type,\n",
    "    'stimuli_type_doc': stimuli_type_doc,\n",
    "    'stimuli_seq': stimuli_seq,\n",
    "    'stimuli_list': stimuli_list\n",
    "}\n",
    "\n",
    "# Define the path for the HDF5 file\n",
    "hdf5_file_dir = os.path.join(directory_path, 'Data')\n",
    "if not os.path.exists(hdf5_file_dir):\n",
    "    os.makedirs(hdf5_file_dir)\n",
    "hdf5_file_path = hdf5_file_dir + image_filename +'_data.h5' \n",
    "\n",
    "# Create a new HDF5 file\n",
    "with h5py.File(hdf5_file_path, 'w') as h5f:\n",
    "    # Loop over the data and save each dataset\n",
    "    for key, value in data_to_save.items():\n",
    "        h5f.create_dataset(key, data=value)"
   ]
  },
  {
   "cell_type": "code",
   "execution_count": null,
   "id": "ca1f913b",
   "metadata": {},
   "outputs": [],
   "source": [
    "print('Finished')"
   ]
  },
  {
   "cell_type": "code",
   "execution_count": null,
   "id": "b3ace9fb",
   "metadata": {},
   "outputs": [],
   "source": []
  }
 ],
 "metadata": {
  "kernelspec": {
   "display_name": "Python 3 (ipykernel)",
   "language": "python",
   "name": "python3"
  },
  "language_info": {
   "codemirror_mode": {
    "name": "ipython",
    "version": 3
   },
   "file_extension": ".py",
   "mimetype": "text/x-python",
   "name": "python",
   "nbconvert_exporter": "python",
   "pygments_lexer": "ipython3",
   "version": "3.10.4"
  }
 },
 "nbformat": 4,
 "nbformat_minor": 5
}
