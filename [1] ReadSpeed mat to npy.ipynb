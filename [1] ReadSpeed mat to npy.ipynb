{
 "cells": [
  {
   "cell_type": "markdown",
   "id": "d50692ed",
   "metadata": {},
   "source": [
    "# Preprocessing the speed recording raw data"
   ]
  },
  {
   "cell_type": "markdown",
   "id": "c0ff2780",
   "metadata": {},
   "source": [
    "Data was recorded from the wheel to represent the locomotion speed of the mice, raw data was stored as `'Episode001.h5'`\n",
    "<br>\n",
    "**Step 1:** Run Matlab file `\"LoadSyncEpisode.m\"` to convert `'Episode001.h5'` to `'Episode001.mat'`;\n",
    "<br>\n",
    "**Step 2:** Run the following codes in python to convert data to `'speed_filename.npy'`, which has been smoothed with `scipy.ndimage.convolve1d` function"
   ]
  },
  {
   "cell_type": "code",
   "execution_count": 2,
   "id": "b9e17056",
   "metadata": {},
   "outputs": [],
   "source": [
    "import numpy as np\n",
    "from readspeeddata import read_speed_data"
   ]
  },
  {
   "cell_type": "code",
   "execution_count": null,
   "id": "33deabb1",
   "metadata": {},
   "outputs": [],
   "source": [
    "# Save Speed File to .npy (faster speed)\n",
    "# Read Speed File\n",
    "path = '...' # path = r'\\\\research.files.med.harvard.edu\\Neurobio\\Fishell Lab\\Shuhan_HMS folder\\NGFC\\2P\\NGFC\\un'\n",
    "file = '...' # file = r'\\NP28A_ROI1_040723\\NP28A_ROI1_speed1'\n",
    "speed_data_smooth = read_speed_data(path + file + '\\Episode001.h5.mat')\n",
    "np.save(path + file + '.npy', speed_data_smooth)"
   ]
  },
  {
   "cell_type": "code",
   "execution_count": null,
   "id": "aace139c",
   "metadata": {},
   "outputs": [],
   "source": [
    "# # Example\n",
    "# path = r'\\\\research.files.med.harvard.edu\\Neurobio\\Fishell Lab\\Shuhan_HMS folder\\NGFC\\2P\\NGFC\\un'\n",
    "# file = r'\\NP28A_ROI1_040723\\NP28A_ROI1_speed1'\n",
    "# speed_raw_data = path + file + '\\Episode001.h5.mat'\n",
    "# speed_data_smooth = read_speed_data(speed_raw_data)\n",
    "# np.save(path + file + 'copy.npy', speed_data_smooth)\n",
    "\n",
    "# # Older version Example\n",
    "# speed_raw_data = r'\\\\research.files.med.harvard.edu\\Neurobio\\Fishell Lab\\Shuhan_HMS folder\\NGFC\\2P\\NGFC\\un\\NP28A_ROI1_040723\\NP28A_ROI1_speed1\\Episode001.h5.mat'\n",
    "# speed_data_smooth = read_speed_data(speed_raw_data)\n",
    "# np.save(r'\\\\research.files.med.harvard.edu\\Neurobio\\Fishell Lab\\Shuhan_HMS folder\\NGFC\\2P\\NGFC\\un\\NP28A_ROI1_040723\\NP28A_ROI1_speed1.npy', speed_data_smooth)"
   ]
  },
  {
   "cell_type": "code",
   "execution_count": null,
   "id": "c301838b",
   "metadata": {},
   "outputs": [],
   "source": []
  }
 ],
 "metadata": {
  "kernelspec": {
   "display_name": "Python 3 (ipykernel)",
   "language": "python",
   "name": "python3"
  },
  "language_info": {
   "codemirror_mode": {
    "name": "ipython",
    "version": 3
   },
   "file_extension": ".py",
   "mimetype": "text/x-python",
   "name": "python",
   "nbconvert_exporter": "python",
   "pygments_lexer": "ipython3",
   "version": "3.10.4"
  }
 },
 "nbformat": 4,
 "nbformat_minor": 5
}
